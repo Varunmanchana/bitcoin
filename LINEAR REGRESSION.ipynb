{
 "cells": [
  {
   "cell_type": "code",
   "execution_count": 2,
   "id": "8707792e",
   "metadata": {},
   "outputs": [],
   "source": [
    "## load all liabraries\n",
    "import numpy as np\n",
    "import matplotlib.pyplot as plt\n",
    "import pandas as pd\n"
   ]
  },
  {
   "cell_type": "code",
   "execution_count": 3,
   "id": "16904894",
   "metadata": {
    "scrolled": true
   },
   "outputs": [
    {
     "name": "stdout",
     "output_type": "stream",
     "text": [
      "Collecting scikit-learn\n",
      "  Using cached scikit_learn-1.1.1-cp310-cp310-win_amd64.whl (7.3 MB)\n",
      "Collecting joblib>=1.0.0\n",
      "  Using cached joblib-1.1.0-py2.py3-none-any.whl (306 kB)\n",
      "Requirement already satisfied: numpy>=1.17.3 in c:\\python\\python310\\lib\\site-packages (from scikit-learn) (1.22.4)\n",
      "Collecting threadpoolctl>=2.0.0\n",
      "  Downloading threadpoolctl-3.1.0-py3-none-any.whl (14 kB)\n",
      "Collecting scipy>=1.3.2\n",
      "  Using cached scipy-1.8.1-cp310-cp310-win_amd64.whl (36.9 MB)\n",
      "Installing collected packages: threadpoolctl, scipy, joblib, scikit-learn\n",
      "Successfully installed joblib-1.1.0 scikit-learn-1.1.1 scipy-1.8.1 threadpoolctl-3.1.0\n",
      "Note: you may need to restart the kernel to use updated packages.\n"
     ]
    },
    {
     "name": "stderr",
     "output_type": "stream",
     "text": [
      "WARNING: Ignoring invalid distribution -ip (c:\\python\\python310\\lib\\site-packages)\n",
      "WARNING: Ignoring invalid distribution -ip (c:\\python\\python310\\lib\\site-packages)\n",
      "WARNING: Ignoring invalid distribution -ip (c:\\python\\python310\\lib\\site-packages)\n",
      "WARNING: Ignoring invalid distribution -ip (c:\\python\\python310\\lib\\site-packages)\n",
      "WARNING: Ignoring invalid distribution -ip (c:\\python\\python310\\lib\\site-packages)\n",
      "WARNING: Ignoring invalid distribution -ip (c:\\python\\python310\\lib\\site-packages)\n",
      "WARNING: Ignoring invalid distribution -ip (c:\\python\\python310\\lib\\site-packages)\n",
      "WARNING: Ignoring invalid distribution -ip (c:\\python\\python310\\lib\\site-packages)\n",
      "WARNING: Ignoring invalid distribution -ip (c:\\python\\python310\\lib\\site-packages)\n",
      "WARNING: Ignoring invalid distribution -ip (c:\\python\\python310\\lib\\site-packages)\n"
     ]
    }
   ],
   "source": [
    "pip install -U scikit-learn"
   ]
  },
  {
   "cell_type": "code",
   "execution_count": 4,
   "id": "97057c56",
   "metadata": {},
   "outputs": [
    {
     "data": {
      "text/html": [
       "<div>\n",
       "<style scoped>\n",
       "    .dataframe tbody tr th:only-of-type {\n",
       "        vertical-align: middle;\n",
       "    }\n",
       "\n",
       "    .dataframe tbody tr th {\n",
       "        vertical-align: top;\n",
       "    }\n",
       "\n",
       "    .dataframe thead th {\n",
       "        text-align: right;\n",
       "    }\n",
       "</style>\n",
       "<table border=\"1\" class=\"dataframe\">\n",
       "  <thead>\n",
       "    <tr style=\"text-align: right;\">\n",
       "      <th></th>\n",
       "      <th>Area (sqft)</th>\n",
       "      <th>Price ($)</th>\n",
       "    </tr>\n",
       "  </thead>\n",
       "  <tbody>\n",
       "    <tr>\n",
       "      <th>0</th>\n",
       "      <td>2000</td>\n",
       "      <td>88600</td>\n",
       "    </tr>\n",
       "    <tr>\n",
       "      <th>1</th>\n",
       "      <td>1600</td>\n",
       "      <td>71600</td>\n",
       "    </tr>\n",
       "    <tr>\n",
       "      <th>2</th>\n",
       "      <td>1980</td>\n",
       "      <td>93300</td>\n",
       "    </tr>\n",
       "    <tr>\n",
       "      <th>3</th>\n",
       "      <td>1840</td>\n",
       "      <td>84300</td>\n",
       "    </tr>\n",
       "    <tr>\n",
       "      <th>4</th>\n",
       "      <td>1710</td>\n",
       "      <td>80600</td>\n",
       "    </tr>\n",
       "    <tr>\n",
       "      <th>5</th>\n",
       "      <td>1550</td>\n",
       "      <td>75200</td>\n",
       "    </tr>\n",
       "    <tr>\n",
       "      <th>6</th>\n",
       "      <td>1470</td>\n",
       "      <td>69700</td>\n",
       "    </tr>\n",
       "    <tr>\n",
       "      <th>7</th>\n",
       "      <td>1710</td>\n",
       "      <td>82000</td>\n",
       "    </tr>\n",
       "    <tr>\n",
       "      <th>8</th>\n",
       "      <td>1540</td>\n",
       "      <td>69400</td>\n",
       "    </tr>\n",
       "    <tr>\n",
       "      <th>9</th>\n",
       "      <td>1620</td>\n",
       "      <td>78700</td>\n",
       "    </tr>\n",
       "    <tr>\n",
       "      <th>10</th>\n",
       "      <td>1500</td>\n",
       "      <td>79600</td>\n",
       "    </tr>\n",
       "    <tr>\n",
       "      <th>11</th>\n",
       "      <td>1720</td>\n",
       "      <td>82600</td>\n",
       "    </tr>\n",
       "    <tr>\n",
       "      <th>12</th>\n",
       "      <td>1600</td>\n",
       "      <td>74500</td>\n",
       "    </tr>\n",
       "    <tr>\n",
       "      <th>13</th>\n",
       "      <td>1700</td>\n",
       "      <td>83500</td>\n",
       "    </tr>\n",
       "    <tr>\n",
       "      <th>14</th>\n",
       "      <td>1440</td>\n",
       "      <td>76300</td>\n",
       "    </tr>\n",
       "    <tr>\n",
       "      <th>15</th>\n",
       "      <td>1520</td>\n",
       "      <td>74000</td>\n",
       "    </tr>\n",
       "    <tr>\n",
       "      <th>16</th>\n",
       "      <td>1960</td>\n",
       "      <td>92890</td>\n",
       "    </tr>\n",
       "    <tr>\n",
       "      <th>17</th>\n",
       "      <td>1700</td>\n",
       "      <td>79500</td>\n",
       "    </tr>\n",
       "    <tr>\n",
       "      <th>18</th>\n",
       "      <td>1420</td>\n",
       "      <td>75600</td>\n",
       "    </tr>\n",
       "    <tr>\n",
       "      <th>19</th>\n",
       "      <td>1520</td>\n",
       "      <td>70000</td>\n",
       "    </tr>\n",
       "    <tr>\n",
       "      <th>20</th>\n",
       "      <td>1900</td>\n",
       "      <td>82600</td>\n",
       "    </tr>\n",
       "    <tr>\n",
       "      <th>21</th>\n",
       "      <td>1640</td>\n",
       "      <td>73600</td>\n",
       "    </tr>\n",
       "    <tr>\n",
       "      <th>22</th>\n",
       "      <td>1900</td>\n",
       "      <td>92100</td>\n",
       "    </tr>\n",
       "    <tr>\n",
       "      <th>23</th>\n",
       "      <td>1860</td>\n",
       "      <td>84700</td>\n",
       "    </tr>\n",
       "    <tr>\n",
       "      <th>24</th>\n",
       "      <td>1700</td>\n",
       "      <td>82600</td>\n",
       "    </tr>\n",
       "    <tr>\n",
       "      <th>25</th>\n",
       "      <td>1590</td>\n",
       "      <td>75900</td>\n",
       "    </tr>\n",
       "    <tr>\n",
       "      <th>26</th>\n",
       "      <td>1410</td>\n",
       "      <td>68700</td>\n",
       "    </tr>\n",
       "    <tr>\n",
       "      <th>27</th>\n",
       "      <td>1770</td>\n",
       "      <td>84700</td>\n",
       "    </tr>\n",
       "    <tr>\n",
       "      <th>28</th>\n",
       "      <td>1550</td>\n",
       "      <td>72400</td>\n",
       "    </tr>\n",
       "    <tr>\n",
       "      <th>29</th>\n",
       "      <td>1600</td>\n",
       "      <td>76700</td>\n",
       "    </tr>\n",
       "    <tr>\n",
       "      <th>30</th>\n",
       "      <td>1580</td>\n",
       "      <td>82600</td>\n",
       "    </tr>\n",
       "    <tr>\n",
       "      <th>31</th>\n",
       "      <td>1760</td>\n",
       "      <td>83600</td>\n",
       "    </tr>\n",
       "    <tr>\n",
       "      <th>32</th>\n",
       "      <td>1600</td>\n",
       "      <td>78500</td>\n",
       "    </tr>\n",
       "    <tr>\n",
       "      <th>33</th>\n",
       "      <td>1790</td>\n",
       "      <td>84500</td>\n",
       "    </tr>\n",
       "    <tr>\n",
       "      <th>34</th>\n",
       "      <td>1480</td>\n",
       "      <td>78500</td>\n",
       "    </tr>\n",
       "    <tr>\n",
       "      <th>35</th>\n",
       "      <td>1500</td>\n",
       "      <td>72000</td>\n",
       "    </tr>\n",
       "    <tr>\n",
       "      <th>36</th>\n",
       "      <td>1980</td>\n",
       "      <td>92990</td>\n",
       "    </tr>\n",
       "    <tr>\n",
       "      <th>37</th>\n",
       "      <td>1710</td>\n",
       "      <td>81500</td>\n",
       "    </tr>\n",
       "    <tr>\n",
       "      <th>38</th>\n",
       "      <td>1400</td>\n",
       "      <td>71300</td>\n",
       "    </tr>\n",
       "    <tr>\n",
       "      <th>39</th>\n",
       "      <td>1590</td>\n",
       "      <td>72500</td>\n",
       "    </tr>\n",
       "  </tbody>\n",
       "</table>\n",
       "</div>"
      ],
      "text/plain": [
       "    Area (sqft)  Price ($)\n",
       "0          2000      88600\n",
       "1          1600      71600\n",
       "2          1980      93300\n",
       "3          1840      84300\n",
       "4          1710      80600\n",
       "5          1550      75200\n",
       "6          1470      69700\n",
       "7          1710      82000\n",
       "8          1540      69400\n",
       "9          1620      78700\n",
       "10         1500      79600\n",
       "11         1720      82600\n",
       "12         1600      74500\n",
       "13         1700      83500\n",
       "14         1440      76300\n",
       "15         1520      74000\n",
       "16         1960      92890\n",
       "17         1700      79500\n",
       "18         1420      75600\n",
       "19         1520      70000\n",
       "20         1900      82600\n",
       "21         1640      73600\n",
       "22         1900      92100\n",
       "23         1860      84700\n",
       "24         1700      82600\n",
       "25         1590      75900\n",
       "26         1410      68700\n",
       "27         1770      84700\n",
       "28         1550      72400\n",
       "29         1600      76700\n",
       "30         1580      82600\n",
       "31         1760      83600\n",
       "32         1600      78500\n",
       "33         1790      84500\n",
       "34         1480      78500\n",
       "35         1500      72000\n",
       "36         1980      92990\n",
       "37         1710      81500\n",
       "38         1400      71300\n",
       "39         1590      72500"
      ]
     },
     "execution_count": 4,
     "metadata": {},
     "output_type": "execute_result"
    }
   ],
   "source": [
    "# Read the dataset (step1: collect the dataset)\n",
    "df = pd.read_csv ('Price.csv')\n",
    "df\n"
   ]
  },
  {
   "cell_type": "code",
   "execution_count": 5,
   "id": "c058c45f",
   "metadata": {},
   "outputs": [
    {
     "data": {
      "text/plain": [
       "0     88600\n",
       "1     71600\n",
       "2     93300\n",
       "3     84300\n",
       "4     80600\n",
       "5     75200\n",
       "6     69700\n",
       "7     82000\n",
       "8     69400\n",
       "9     78700\n",
       "10    79600\n",
       "11    82600\n",
       "12    74500\n",
       "13    83500\n",
       "14    76300\n",
       "15    74000\n",
       "16    92890\n",
       "17    79500\n",
       "18    75600\n",
       "19    70000\n",
       "20    82600\n",
       "21    73600\n",
       "22    92100\n",
       "23    84700\n",
       "24    82600\n",
       "25    75900\n",
       "26    68700\n",
       "27    84700\n",
       "28    72400\n",
       "29    76700\n",
       "30    82600\n",
       "31    83600\n",
       "32    78500\n",
       "33    84500\n",
       "34    78500\n",
       "35    72000\n",
       "36    92990\n",
       "37    81500\n",
       "38    71300\n",
       "39    72500\n",
       "Name: Price ($), dtype: int64"
      ]
     },
     "execution_count": 5,
     "metadata": {},
     "output_type": "execute_result"
    }
   ],
   "source": [
    "#  divide the dataset into dependent and independent  features\n",
    "i = df[[\"Area (sqft)\"]]  # 2D\n",
    "\n",
    "d = df[\"Price ($)\"]   # 1D\n",
    "d\n"
   ]
  },
  {
   "cell_type": "code",
   "execution_count": 6,
   "id": "cec69fe4",
   "metadata": {},
   "outputs": [
    {
     "data": {
      "text/plain": [
       "Index(['Area (sqft)', 'Price ($)'], dtype='object')"
      ]
     },
     "execution_count": 6,
     "metadata": {},
     "output_type": "execute_result"
    }
   ],
   "source": [
    "df.columns"
   ]
  },
  {
   "cell_type": "code",
   "execution_count": 7,
   "id": "8ff26004",
   "metadata": {},
   "outputs": [
    {
     "name": "stdout",
     "output_type": "stream",
     "text": [
      "<class 'pandas.core.frame.DataFrame'>\n",
      "RangeIndex: 40 entries, 0 to 39\n",
      "Data columns (total 1 columns):\n",
      " #   Column       Non-Null Count  Dtype\n",
      "---  ------       --------------  -----\n",
      " 0   Area (sqft)  40 non-null     int64\n",
      "dtypes: int64(1)\n",
      "memory usage: 448.0 bytes\n"
     ]
    }
   ],
   "source": [
    "# to check the datatype and nan values of each column of independent featurse\n",
    "\n",
    "i.info()"
   ]
  },
  {
   "cell_type": "code",
   "execution_count": 9,
   "id": "93d32edd",
   "metadata": {},
   "outputs": [
    {
     "data": {
      "text/plain": [
       "10    79600\n",
       "15    74000\n",
       "28    72400\n",
       "11    82600\n",
       "18    75600\n",
       "29    76700\n",
       "27    84700\n",
       "35    72000\n",
       "37    81500\n",
       "2     93300\n",
       "39    72500\n",
       "30    82600\n",
       "34    78500\n",
       "16    92890\n",
       "36    92990\n",
       "8     69400\n",
       "13    83500\n",
       "5     75200\n",
       "17    79500\n",
       "14    76300\n",
       "33    84500\n",
       "7     82000\n",
       "32    78500\n",
       "1     71600\n",
       "26    68700\n",
       "12    74500\n",
       "31    83600\n",
       "24    82600\n",
       "6     69700\n",
       "23    84700\n",
       "21    73600\n",
       "19    70000\n",
       "9     78700\n",
       "38    71300\n",
       "3     84300\n",
       "0     88600\n",
       "Name: Price ($), dtype: int64"
      ]
     },
     "execution_count": 9,
     "metadata": {},
     "output_type": "execute_result"
    }
   ],
   "source": [
    "# train and test split \n",
    "\n",
    "from sklearn.model_selection import train_test_split\n",
    "x_train,x_test,y_train,y_test=train_test_split (i, d, test_size = .10,random_state=0)\n",
    "\n",
    "#i is divide into 2 parts x_train(90 %)and x_test(10 %)\n",
    "#d is divide into 2 parts y_train and y_test\n",
    "x_train\n",
    "y_train"
   ]
  },
  {
   "cell_type": "code",
   "execution_count": 10,
   "id": "e436a33a",
   "metadata": {},
   "outputs": [
    {
     "name": "stdout",
     "output_type": "stream",
     "text": [
      "slope [35.81814053]\n",
      "intercept 19952.94680627391\n"
     ]
    }
   ],
   "source": [
    "from sklearn.linear_model import LinearRegression\n",
    "lnr = LinearRegression()   # create object of Linear regression\n",
    "lnr.fit (x_train, y_train ) # fit fxn is used to give training to model/machine \n",
    "\n",
    "m=lnr.coef_  # slope\n",
    "c=lnr.intercept_   #intersecpt\n",
    "print(\"slope\",m)\n",
    "print(\"intercept\",c)"
   ]
  },
  {
   "cell_type": "code",
   "execution_count": 11,
   "id": "fb3e1719",
   "metadata": {},
   "outputs": [
    {
     "data": {
      "text/plain": [
       "22    92100\n",
       "20    82600\n",
       "25    75900\n",
       "4     80600\n",
       "Name: Price ($), dtype: int64"
      ]
     },
     "execution_count": 11,
     "metadata": {},
     "output_type": "execute_result"
    }
   ],
   "source": [
    "x_test\n",
    "y_test"
   ]
  },
  {
   "cell_type": "code",
   "execution_count": 12,
   "id": "60e08e30",
   "metadata": {},
   "outputs": [
    {
     "data": {
      "text/plain": [
       "array([76903.79025272])"
      ]
     },
     "execution_count": 12,
     "metadata": {},
     "output_type": "execute_result"
    }
   ],
   "source": [
    "y=m*1590+c\n",
    "y"
   ]
  },
  {
   "cell_type": "code",
   "execution_count": 13,
   "id": "6d9759b0",
   "metadata": {},
   "outputs": [
    {
     "name": "stdout",
     "output_type": "stream",
     "text": [
      "predicted y records: [88007.41381775 88007.41381775 76903.79025272 81201.96711661]\n",
      "real answers 22    92100\n",
      "20    82600\n",
      "25    75900\n",
      "4     80600\n",
      "Name: Price ($), dtype: int64\n"
     ]
    }
   ],
   "source": [
    "#print(\"x_test\",x_test)\n",
    "predicted_y = lnr.predict(x_test)# test the model\n",
    "print(\"predicted y records:\",predicted_y)\n",
    "print(\"real answers\",y_test)"
   ]
  },
  {
   "cell_type": "code",
   "execution_count": 14,
   "id": "2e789bd7",
   "metadata": {},
   "outputs": [
    {
     "name": "stdout",
     "output_type": "stream",
     "text": [
      "RMSE is:-\n",
      "Mean Absolute Error(MAE): 2776.4393423321126\n",
      "Mean Squared Error(MSE): 11839836.284120673\n",
      "Root Mean Squared Error(RMSE): 3440.906317254318\n"
     ]
    }
   ],
   "source": [
    "\n",
    "from sklearn.metrics import mean_absolute_error\n",
    "from sklearn.metrics import mean_squared_error\n",
    "from math import sqrt\n",
    "print(\"RMSE is:-\")\n",
    "\n",
    "print('Mean Absolute Error(MAE):', mean_absolute_error(y_test, predicted_y))\n",
    "print('Mean Squared Error(MSE):', mean_squared_error(y_test, predicted_y))\n",
    "print('Root Mean Squared Error(RMSE):', np.sqrt(mean_squared_error(y_test, predicted_y)))"
   ]
  },
  {
   "cell_type": "code",
   "execution_count": 15,
   "id": "56e660fd",
   "metadata": {},
   "outputs": [
    {
     "data": {
      "image/png": "[encoded data removed]",
      "text/plain": [
       "<Figure size 432x288 with 1 Axes>"
      ]
     },
     "metadata": {
      "needs_background": "light"
     },
     "output_type": "display_data"
    }
   ],
   "source": [
    "plt.scatter(x_test, y_test, color = 'red',label=\"actual answer\")  \n",
    "plt.plot(x_test, predicted_y, color = 'green',label='predicted answer')\n",
    "plt.legend()\n",
    "plt.title ('Results ')\n",
    "plt.xlabel('Area of Flats')\n",
    "plt.ylabel('Price')\n",
    "plt.show()"
   ]
  },
  {
   "cell_type": "code",
   "execution_count": 16,
   "id": "9e0069a3",
   "metadata": {},
   "outputs": [
    {
     "name": "stdout",
     "output_type": "stream",
     "text": [
      " slope: [35.81814053]\n",
      "intercept 19952.94680627391\n",
      "price of land [88007.41381775]\n",
      "rr [88007.41381775]\n"
     ]
    },
    {
     "name": "stderr",
     "output_type": "stream",
     "text": [
      "C:\\Python\\Python310\\lib\\site-packages\\sklearn\\base.py:450: UserWarning: X does not have valid feature names, but LinearRegression was fitted with feature names\n",
      "  warnings.warn(\n"
     ]
    }
   ],
   "source": [
    "#explain equation now y=mx+c\n",
    "m=lnr.coef_  # slope\n",
    "c=lnr.intercept_   #intersecpt\n",
    "print(\" slope:\",m) #slope\n",
    "print(\"intercept\",c)  \n",
    "\n",
    "y=m*1900+c  #Here i is x as defined above\n",
    "print(\"price of land\",y)\n",
    "\n",
    "\n",
    "rr=lnr.predict([[1900]])\n",
    "print(\"rr\",rr)\n",
    "#y= m*1900+c"
   ]
  },
  {
   "cell_type": "code",
   "execution_count": null,
   "id": "627fd106",
   "metadata": {},
   "outputs": [],
   "source": []
  }
 ],
 "metadata": {
  "kernelspec": {
   "display_name": "Python 3 (ipykernel)",
   "language": "python",
   "name": "python3"
  },
  "language_info": {
   "codemirror_mode": {
    "name": "ipython",
    "version": 3
   },
   "file_extension": ".py",
   "mimetype": "text/x-python",
   "name": "python",
   "nbconvert_exporter": "python",
   "pygments_lexer": "ipython3",
   "version": "3.9.12"
  }
 },
 "nbformat": 4,
 "nbformat_minor": 5
}
